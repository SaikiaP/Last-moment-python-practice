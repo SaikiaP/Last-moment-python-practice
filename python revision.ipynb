{
 "cells": [
  {
   "cell_type": "markdown",
   "id": "20f6d847",
   "metadata": {},
   "source": [
    "## CLASS OBJECT"
   ]
  },
  {
   "cell_type": "code",
   "execution_count": 3,
   "id": "a8f6c32e",
   "metadata": {},
   "outputs": [
    {
     "name": "stdout",
     "output_type": "stream",
     "text": [
      "Enter student's name: ahdj\n",
      "Enter student's age: 34\n",
      "Enter course name: kjfe\n",
      "Enter course instructor: lkjg\n",
      "ahdj enrolled in kjfe\n",
      "\n",
      "Student Information:\n",
      "Name: ahdj\n",
      "Age: 34\n",
      "ahdj's enrolled courses: kjfe\n",
      "\n",
      "Course Information:\n",
      "Course: kjfe, Instructor: lkjg\n"
     ]
    }
   ],
   "source": [
    "# Define the Student class\n",
    "class Student:\n",
    "    def __init__(self, name, age):\n",
    "        self.name = name\n",
    "        self.age = age\n",
    "        self.courses = []\n",
    "\n",
    "    def enroll_course(self, course):\n",
    "        self.courses.append(course)\n",
    "        print(f\"{self.name} enrolled in {course}\")\n",
    "\n",
    "    def display_courses(self):\n",
    "        if self.courses:\n",
    "            print(f\"{self.name}'s enrolled courses: {', '.join(self.courses)}\")\n",
    "        else:\n",
    "            print(f\"{self.name} is not enrolled in any courses.\")\n",
    "\n",
    "# Define the Course class\n",
    "class Course:\n",
    "    def __init__(self, name, instructor):\n",
    "        self.name = name\n",
    "        self.instructor = instructor\n",
    "\n",
    "    def display_info(self):\n",
    "        return f\"Course: {self.name}, Instructor: {self.instructor}\"\n",
    "\n",
    "# Define the main function\n",
    "def main():\n",
    "    student_name = input(\"Enter student's name: \")\n",
    "    student_age = int(input(\"Enter student's age: \"))\n",
    "    student = Student(student_name, student_age)\n",
    "\n",
    "    course_name = input(\"Enter course name: \")\n",
    "    course_instructor = input(\"Enter course instructor: \")\n",
    "    course = Course(course_name, course_instructor)\n",
    "\n",
    "    student.enroll_course(course.name)\n",
    "\n",
    "    print(\"\\nStudent Information:\")\n",
    "    print(f\"Name: {student.name}\")\n",
    "    print(f\"Age: {student.age}\")\n",
    "    student.display_courses()\n",
    "\n",
    "    print(\"\\nCourse Information:\")\n",
    "    print(course.display_info())\n",
    "\n",
    "if __name__ == \"__main__\":\n",
    "    main()\n"
   ]
  },
  {
   "cell_type": "raw",
   "id": "858846d8",
   "metadata": {},
   "source": [
    "Classes and Objects:\n",
    "\n",
    "A class is a blueprint or template for creating objects. It defines the attributes (data members) and methods (functions) that the objects created from the class will have. An object is an instance of a class. It represents a specific instance with its own set of attribute values and can execute the methods defined in the class.\n",
    "\n",
    "For example, consider a class Car:\n",
    "\n",
    "python\n",
    "Copy code\n",
    "class Car:\n",
    "    def start(self):\n",
    "        print(\"Car started\")\n",
    "\n",
    "    def stop(self):\n",
    "        print(\"Car stopped\")\n",
    "Here, Car is a class with two methods, start and stop. You can create objects of this class:\n",
    "\n",
    "python\n",
    "Copy code\n",
    "my_car = Car()\n",
    "your_car = Car()\n",
    "\n",
    "my_car.start()\n",
    "your_car.stop()\n",
    "Constructors and the __init__ Function:\n",
    "    \n",
    "    \n",
    "    \n",
    "    \n",
    "    \n",
    "\n",
    "A constructor is a special method that is automatically called when an object of a class is created. It initializes the attributes of the object with the values provided during object creation. In Python, the constructor method is named __init__.\n",
    "\n",
    "The __init__ function allows you to set initial values for attributes when an object is created. This helps ensure that every object starts with a consistent state.\n",
    "\n",
    "For example, let's enhance the Car class to include an attribute for the car's make:\n",
    "\n",
    "python\n",
    "Copy code\n",
    "class Car:\n",
    "    def __init__(self, make):\n",
    "        self.make = make\n",
    "\n",
    "    def start(self):\n",
    "        print(f\"{self.make} car started\")\n",
    "\n",
    "    def stop(self):\n",
    "        print(f\"{self.make} car stopped\")\n",
    "In this updated class, the __init__ method takes an additional parameter make and initializes the make attribute of the object with the provided value.\n",
    "\n",
    "When creating objects of the class, you need to provide the required values for the __init__ method:\n",
    "\n",
    "python\n",
    "Copy code\n",
    "my_car = Car(\"Toyota\")\n",
    "your_car = Car(\"Honda\")\n",
    "\n",
    "my_car.start()\n",
    "your_car.stop()\n",
    "Why Constructors and __init__ Are Used:\n",
    "\n",
    "Constructors and the __init__ function are used to ensure that objects start in a valid state and to provide a way to set initial attribute values. They allow you to define the required parameters for object creation and ensure that objects are properly initialized. This helps avoid inconsistent states and improves the usability of your classes.\n",
    "\n",
    "By using constructors, you can encapsulate the object creation process and centralize the setting of attributes. This leads to more predictable and maintainable code, as objects are guaranteed to have the necessary data when they are created.\n",
    "\n",
    "In summary, constructors and the __init__ function are essential components of classes in object-oriented programming. They play a crucial role in setting up object attributes and providing a consistent way to create objects.\n",
    "\n",
    "\n",
    "\n",
    "\n",
    "\n"
   ]
  },
  {
   "cell_type": "markdown",
   "id": "654e1968",
   "metadata": {},
   "source": [
    "## Inheritance"
   ]
  },
  {
   "cell_type": "code",
   "execution_count": 4,
   "id": "44522329",
   "metadata": {},
   "outputs": [
    {
     "name": "stdout",
     "output_type": "stream",
     "text": [
      "Circle 1 - Area: 78.5\n",
      "Rectangle 1 - Area: 24\n"
     ]
    }
   ],
   "source": [
    "# Base class: Shape\n",
    "class Shape:\n",
    "    def __init__(self, name):\n",
    "        self.name = name\n",
    "\n",
    "    def area(self):\n",
    "        pass\n",
    "\n",
    "# Derived class: Circle, inheriting from Shape\n",
    "class Circle(Shape):\n",
    "    def __init__(self, name, radius):\n",
    "        super().__init__(name)  # Call the base class constructor\n",
    "        self.radius = radius\n",
    "\n",
    "    def area(self):\n",
    "        return 3.14 * self.radius ** 2\n",
    "\n",
    "# Derived class: Rectangle, inheriting from Shape\n",
    "class Rectangle(Shape):\n",
    "    def __init__(self, name, width, height):\n",
    "        super().__init__(name)  # Call the base class constructor\n",
    "        self.width = width\n",
    "        self.height = height\n",
    "\n",
    "    def area(self):\n",
    "        return self.width * self.height\n",
    "\n",
    "# Create objects and use inheritance\n",
    "circle = Circle(\"Circle 1\", 5)\n",
    "rectangle = Rectangle(\"Rectangle 1\", 4, 6)\n",
    "\n",
    "print(f\"{circle.name} - Area: {circle.area()}\")\n",
    "print(f\"{rectangle.name} - Area: {rectangle.area()}\")\n"
   ]
  },
  {
   "cell_type": "raw",
   "id": "8a996437",
   "metadata": {},
   "source": [
    "Shape is the base class with a constructor that initializes a name attribute and an abstract method area().\n",
    "Circle is a subclass that inherits from Shape. It has its own constructor to initialize the radius attribute and overrides the area() method to calculate the area of a circle.\n",
    "Rectangle is another subclass that also inherits from Shape. It has its own constructor to initialize the width and height attributes and overrides the area() method to calculate the area of a rectangle.\n",
    "When you create objects of the derived classes and call their area() methods, the appropriate method implementation from the subclass is used."
   ]
  },
  {
   "cell_type": "markdown",
   "id": "0c1e7466",
   "metadata": {},
   "source": [
    "## Exception handling"
   ]
  },
  {
   "cell_type": "code",
   "execution_count": 5,
   "id": "41eb0f7e",
   "metadata": {},
   "outputs": [
    {
     "name": "stdout",
     "output_type": "stream",
     "text": [
      "Enter a number: 1234\n",
      "Enter another number: 5678\n",
      "Result: 0.2173300457907714\n"
     ]
    }
   ],
   "source": [
    "def divide(a, b):\n",
    "    try:\n",
    "        result = a / b\n",
    "        return result\n",
    "    except ZeroDivisionError:\n",
    "        return \"Error: Division by zero\"\n",
    "    except TypeError:\n",
    "        return \"Error: Invalid input types\"\n",
    "    except Exception as e:\n",
    "        return f\"An error occurred: {e}\"\n",
    "\n",
    "# Example usage\n",
    "num1 = float(input(\"Enter a number: \"))\n",
    "num2 = float(input(\"Enter another number: \"))\n",
    "\n",
    "result = divide(num1, num2)\n",
    "print(f\"Result: {result}\")\n"
   ]
  },
  {
   "cell_type": "code",
   "execution_count": 6,
   "id": "81bed9e7",
   "metadata": {},
   "outputs": [
    {
     "name": "stdout",
     "output_type": "stream",
     "text": [
      "My name is Alice and I am 30 years old.\n",
      "I bought 3 book(s) for $25.50.\n",
      "The dog says bark.\n",
      "Student Bob scored 85 on the test.\n"
     ]
    }
   ],
   "source": [
    "# Using f-strings\n",
    "name = \"Alice\"\n",
    "age = 30\n",
    "formatted_fstring = f\"My name is {name} and I am {age} years old.\"\n",
    "\n",
    "# Using the .format() method\n",
    "item = \"book\"\n",
    "quantity = 3\n",
    "price = 25.50\n",
    "formatted_format_method = \"I bought {} {}(s) for ${:.2f}.\".format(quantity, item, price)\n",
    "\n",
    "# Using positional placeholders with .format()\n",
    "animal = \"dog\"\n",
    "sound = \"bark\"\n",
    "formatted_positional_placeholder = \"The {} says {}.\".format(animal, sound)\n",
    "\n",
    "# Using % formatting\n",
    "student_name = \"Bob\"\n",
    "test_score = 85\n",
    "formatted_percent_formatting = \"Student %s scored %d on the test.\" % (student_name, test_score)\n",
    "\n",
    "# Printing the formatted strings\n",
    "print(formatted_fstring)\n",
    "print(formatted_format_method)\n",
    "print(formatted_positional_placeholder)\n",
    "print(formatted_percent_formatting)\n"
   ]
  },
  {
   "cell_type": "markdown",
   "id": "beffeb1d",
   "metadata": {},
   "source": [
    "# Inbuilt functions"
   ]
  },
  {
   "cell_type": "markdown",
   "id": "63bb3d7d",
   "metadata": {},
   "source": [
    "## iterating functions"
   ]
  },
  {
   "cell_type": "code",
   "execution_count": 7,
   "id": "7dc6b40a",
   "metadata": {},
   "outputs": [
    {
     "name": "stdout",
     "output_type": "stream",
     "text": [
      "0 1 2 3 4 \n",
      "\n",
      "Index 0: apple\n",
      "Index 1: banana\n",
      "Index 2: cherry\n",
      "Index 3: date\n",
      "\n",
      "\n",
      "Alice is 28 years old.\n",
      "Bob is 35 years old.\n",
      "Carol is 22 years old.\n"
     ]
    }
   ],
   "source": [
    "# Using range() to generate a sequence of numbers\n",
    "for num in range(5):\n",
    "    print(num, end=\" \")  # Output: 0 1 2 3 4\n",
    "print(\"\\n\")\n",
    "\n",
    "# Using enumerate() to iterate over a sequence with indices\n",
    "fruits = [\"apple\", \"banana\", \"cherry\", \"date\"]\n",
    "for index, fruit in enumerate(fruits):\n",
    "    print(f\"Index {index}: {fruit}\")\n",
    "# Output:\n",
    "# Index 0: apple\n",
    "# Index 1: banana\n",
    "# Index 2: cherry\n",
    "# Index 3: date\n",
    "print(\"\\n\")\n",
    "\n",
    "# Using zip() to iterate over multiple sequences in parallel\n",
    "names = [\"Alice\", \"Bob\", \"Carol\"]\n",
    "ages = [28, 35, 22]\n",
    "for name, age in zip(names, ages):\n",
    "    print(f\"{name} is {age} years old.\")\n",
    "# Output:\n",
    "# Alice is 28 years old.\n",
    "# Bob is 35 years old.\n",
    "# Carol is 22 years old.\n"
   ]
  },
  {
   "cell_type": "raw",
   "id": "e9d4e4ba",
   "metadata": {},
   "source": [
    "range(5) generates a sequence of numbers from 0 to 4, which is used in the first loop.\n",
    "enumerate(fruits) pairs each element of the fruits list with its index, allowing you to iterate over the list while keeping track of indices.\n",
    "zip(names, ages) combines the elements from the names and ages lists, allowing you to iterate over both lists in parallel and access corresponding elements."
   ]
  },
  {
   "cell_type": "markdown",
   "id": "3fcc7e75",
   "metadata": {},
   "source": [
    "## Container Functions"
   ]
  },
  {
   "cell_type": "raw",
   "id": "454220d7",
   "metadata": {},
   "source": [
    "These functions are referred to as \"container functions\" because they are commonly used with container types like lists, tuples, sets, and dictionaries. These functions provide operations that are particularly useful when working with collections of data, which are commonly referred to as containers."
   ]
  },
  {
   "cell_type": "code",
   "execution_count": 8,
   "id": "8fa0904a",
   "metadata": {},
   "outputs": [
    {
     "name": "stdout",
     "output_type": "stream",
     "text": [
      "Length of the list: 5\n",
      "Sorted numbers: [1, 2, 3, 5, 8]\n",
      "Reversed string: !dlrow ,olleH\n",
      "Any value is True: True\n",
      "All values are True: False\n",
      "Subset using slice: [3, 4, 5, 6]\n"
     ]
    }
   ],
   "source": [
    "# len() function\n",
    "my_list = [10, 20, 30, 40, 50]\n",
    "length = len(my_list)\n",
    "print(\"Length of the list:\", length)  # Output: Length of the list: 5\n",
    "\n",
    "# sorted() function\n",
    "numbers = [5, 2, 8, 1, 3]\n",
    "sorted_numbers = sorted(numbers)\n",
    "print(\"Sorted numbers:\", sorted_numbers)  # Output: Sorted numbers: [1, 2, 3, 5, 8]\n",
    "\n",
    "# reversed() function\n",
    "my_string = \"Hello, world!\"\n",
    "reversed_string = ''.join(reversed(my_string))\n",
    "print(\"Reversed string:\", reversed_string)  # Output: Reversed string: !dlrow ,olleH\n",
    "\n",
    "# any() function\n",
    "values = [False, True, False, True]\n",
    "result_any = any(values)\n",
    "print(\"Any value is True:\", result_any)  # Output: Any value is True: True\n",
    "\n",
    "# all() function\n",
    "numbers_all = [10, 20, 30, 0, 40]\n",
    "result_all = all(numbers_all)\n",
    "print(\"All values are True:\", result_all)  # Output: All values are True: False\n",
    "\n",
    "# slice object\n",
    "my_list_slice = [1, 2, 3, 4, 5, 6, 7, 8, 9]\n",
    "my_slice = slice(2, 6)  # Create a slice from index 2 to 5\n",
    "subset = my_list_slice[my_slice]\n",
    "print(\"Subset using slice:\", subset)  # Output: Subset using slice: [3, 4, 5, 6]\n"
   ]
  },
  {
   "cell_type": "markdown",
   "id": "bc0049ab",
   "metadata": {},
   "source": [
    "## Functinal Programming language"
   ]
  },
  {
   "cell_type": "code",
   "execution_count": 9,
   "id": "cfeccd62",
   "metadata": {},
   "outputs": [
    {
     "name": "stdout",
     "output_type": "stream",
     "text": [
      "Squared: [1, 4, 9, 16, 25]\n",
      "Even numbers: [2, 4]\n",
      "Product of numbers: 120\n"
     ]
    }
   ],
   "source": [
    "from functools import reduce\n",
    "\n",
    "# Using map() to square each element in a list\n",
    "numbers = [1, 2, 3, 4, 5]\n",
    "squared = list(map(lambda x: x ** 2, numbers))\n",
    "print(\"Squared:\", squared)  # Output: Squared: [1, 4, 9, 16, 25]\n",
    "\n",
    "# Using filter() to get even numbers from a list\n",
    "def is_even(x):\n",
    "    return x % 2 == 0\n",
    "even_numbers = list(filter(is_even, numbers))\n",
    "print(\"Even numbers:\", even_numbers)  # Output: Even numbers: [2, 4]\n",
    "\n",
    "# Using reduce() to calculate the product of elements in a list\n",
    "def product(x, y):\n",
    "    return x * y\n",
    "product_result = reduce(product, numbers)\n",
    "print(\"Product of numbers:\", product_result)  # Output: Product of numbers: 120\n"
   ]
  },
  {
   "cell_type": "code",
   "execution_count": null,
   "id": "94d5dc4a",
   "metadata": {},
   "outputs": [],
   "source": []
  }
 ],
 "metadata": {
  "kernelspec": {
   "display_name": "Python 3",
   "language": "python",
   "name": "python3"
  },
  "language_info": {
   "codemirror_mode": {
    "name": "ipython",
    "version": 3
   },
   "file_extension": ".py",
   "mimetype": "text/x-python",
   "name": "python",
   "nbconvert_exporter": "python",
   "pygments_lexer": "ipython3",
   "version": "3.8.8"
  }
 },
 "nbformat": 4,
 "nbformat_minor": 5
}
